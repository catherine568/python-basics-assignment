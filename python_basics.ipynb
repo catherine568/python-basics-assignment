{
  "nbformat": 4,
  "nbformat_minor": 0,
  "metadata": {
    "colab": {
      "provenance": []
    },
    "kernelspec": {
      "name": "python3",
      "display_name": "Python 3"
    },
    "language_info": {
      "name": "python"
    }
  },
  "cells": [
    {
      "cell_type": "code",
      "execution_count": null,
      "metadata": {
        "id": "qfnf2coMTxMK"
      },
      "outputs": [],
      "source": []
    },
    {
      "cell_type": "markdown",
      "source": [
        "THEORY QUESTIONS:\n",
        "\n",
        "1.What is Python, and why is it popular?\n",
        " - Python is an open-source programming language that is free to use and distribute.Python is a computer programming language often used to build websites and software, automate tasks, and analyze data.Its user-friendly and intuitive nature, combined with rapid development capabilities and ease of learning.\n",
        "\n",
        "\n",
        "2.What is an interpreter in Python?\n",
        " - A Python Interpreter is a program that processes and executes Python code either from a script file or interactively, allowing programmers to test and run code line by line.\n",
        "\n",
        "3.What are pre-defined keywords in Python?\n",
        " - Python Keywords are some predefined and reserved words in Python that have special meanings. Keywords are used to define the syntax of the coding. The keyword cannot be used as an identifier, function, or variable name.\n",
        "\n",
        "4.Can keywords be used as variable names?\n",
        " - Keywords define the language's syntax rules and structure, and they cannot be used as variable names.\n",
        "\n",
        "5.What is mutability in Python?\n",
        " - Mutable is when something is changeable or has the ability to change. In Python, 'mutable' is the ability of objects to change their values. These are often the objects that store a collection of data.\n",
        "\n",
        "6.Why are lists mutable, but tuples are immutable?\n",
        " - Tuples are immutable objects and lists are mutable objects. Once defined, tuples have a fixed length and lists have a dynamic length. Tuples use less memory and are faster to access than to lists. Tuple syntax uses round brackets or parenthesis, and list syntax uses square brackets.\n",
        "\n",
        "7.What is the difference between “==” and “is” operators in Python?\n",
        " - The is operator is used to check if different variables are pointing to the same object in memory. The == operator is used in Python when the values of the operands are equal. In such a case, the condition is true.\n",
        "\n",
        "8.What are logical operators in Python? I\n",
        "- In Python, logical operators are used to combine multiple conditions together and evaluate them as a single boolean expression. There are three types of logical operators in Python: `and`, `or`, and `not`. The `and` operator returns `True` if both conditions it is evaluating are true, otherwise it returns `False`.\n",
        "\n",
        "9.What is type casting in Python?\n",
        " - Type Casting, also known as type conversion, is a process that converts a variable's data type into another data type. These conversions can be implicit (automatically interpreted) or explicit (using built-in functions).\n",
        "\n",
        "10.What is the difference between implicit and explicit type casting?\n",
        " - Implicit casting allows Python to automatically convert data types when performing operations, while explicit casting gives you control over how data types are converted. Knowing when to use each method can help you write more robust and readable Python code.\n",
        "\n",
        "11.What is the purpose of conditional statements in Python?\n",
        " - Conditional statements are an essential part of programming in Python. They allow you to make decisions based on the values of variables or the result of comparisons.\n",
        "\n",
        "12.How does the elif statement work?\n",
        " - The “elif” keyword in Python, stands for “else if”. It can be used in conditional statements to check for multiple conditions. For example, if the first condition is false, it moves on to the next “elif” statement to check if that condition is true.\n",
        "\n",
        "13.What is the difference between for and while loops?\n",
        " - A for loop in Python repeats executing a code block from a sequence till certain number of times. Whereas a while loop in Python repeats execution of a code block till the condition is true which is not certain.\n",
        "\n",
        "14.Describe a scenario where a while loop is more suitable than a for loop?\n",
        " - Scenario for \"While Loop\":\n",
        "You don't know how many lines the file contains, so you need a loop that keeps reading line by line until there are no more lines to read. In such a case, a \"While Loop\" is more appropriate because the number of iterations needed isn't known in advance—it depends on the file's content.     \n"
      ],
      "metadata": {
        "id": "zf3eVQThT8kH"
      }
    },
    {
      "cell_type": "code",
      "source": [
        "PRACTICAL QUESTIONS:\n",
        "\n"
      ],
      "metadata": {
        "id": "9oNCLNyBbbXO"
      },
      "execution_count": null,
      "outputs": []
    },
    {
      "cell_type": "code",
      "source": [
        "  #Write a Python program to print \"Hello, World!\"\n",
        "\n",
        "print(\"Hello, World!\")\n"
      ],
      "metadata": {
        "colab": {
          "base_uri": "https://localhost:8080/"
        },
        "id": "7IBcM_s-dpau",
        "outputId": "9e603aba-24de-47ef-b925-a80abbd6b193"
      },
      "execution_count": 2,
      "outputs": [
        {
          "output_type": "stream",
          "name": "stdout",
          "text": [
            "Hello, World!\n"
          ]
        }
      ]
    },
    {
      "cell_type": "code",
      "source": [
        " #Write a Python program that displays your name and age\n",
        "\n",
        "name = \"catty\"  # Replace with your actual name\n",
        "age = 21  # Replace with your actual age\n",
        "\n",
        "print(f\"My name is {name} and I am {age} years old.\")\n"
      ],
      "metadata": {
        "colab": {
          "base_uri": "https://localhost:8080/"
        },
        "id": "oyPNVdFPfrQz",
        "outputId": "efafea47-7898-48de-8113-bd9990d2ad37"
      },
      "execution_count": 6,
      "outputs": [
        {
          "output_type": "stream",
          "name": "stdout",
          "text": [
            "My name is catty and I am 21 years old.\n"
          ]
        }
      ]
    },
    {
      "cell_type": "code",
      "source": [
        " #Write code to print all the pre-defined keywords in Python using the keyword library\n",
        "\n",
        "import keyword\n",
        "\n",
        "keyword.kwlist\n"
      ],
      "metadata": {
        "colab": {
          "base_uri": "https://localhost:8080/"
        },
        "id": "hTcyIGtpgBmg",
        "outputId": "6db5d684-2ed9-41b8-8ba0-b7f0647726ab"
      },
      "execution_count": 7,
      "outputs": [
        {
          "output_type": "execute_result",
          "data": {
            "text/plain": [
              "['False',\n",
              " 'None',\n",
              " 'True',\n",
              " 'and',\n",
              " 'as',\n",
              " 'assert',\n",
              " 'async',\n",
              " 'await',\n",
              " 'break',\n",
              " 'class',\n",
              " 'continue',\n",
              " 'def',\n",
              " 'del',\n",
              " 'elif',\n",
              " 'else',\n",
              " 'except',\n",
              " 'finally',\n",
              " 'for',\n",
              " 'from',\n",
              " 'global',\n",
              " 'if',\n",
              " 'import',\n",
              " 'in',\n",
              " 'is',\n",
              " 'lambda',\n",
              " 'nonlocal',\n",
              " 'not',\n",
              " 'or',\n",
              " 'pass',\n",
              " 'raise',\n",
              " 'return',\n",
              " 'try',\n",
              " 'while',\n",
              " 'with',\n",
              " 'yield']"
            ]
          },
          "metadata": {},
          "execution_count": 7
        }
      ]
    },
    {
      "cell_type": "code",
      "source": [
        " #Write a program that checks if a given word is a Python keyword.\n",
        "\n",
        "import keyword\n",
        "\n",
        "def is_keyword(word):\n",
        "  \"\"\"\n",
        "  Checks if a given word is a Python keyword.\n",
        "\n",
        "  Args:\n",
        "      word: The word to check.\n",
        "\n",
        "  Returns:\n",
        "      True if the word is a keyword, False otherwise.\n",
        "  \"\"\"\n",
        "  return keyword.iskeyword(word)\n",
        "\n",
        "# Example usage\n",
        "word = \"if\"\n",
        "if is_keyword(word):\n",
        "    print(f\"'{word}' is a Python keyword.\")\n",
        "else:\n",
        "    print(f\"'{word}' is not a Python keyword.\")\n",
        "\n",
        "word = \"hello\"\n",
        "if is_keyword(word):\n",
        "    print(f\"'{word}' is a Python keyword.\")\n",
        "else:\n",
        "    print(f\"'{word}' is not a Python keyword.\")\n"
      ],
      "metadata": {
        "colab": {
          "base_uri": "https://localhost:8080/"
        },
        "id": "Wo-C1D6QgQtc",
        "outputId": "9fa224b1-bbc8-482e-e06f-2995280b1854"
      },
      "execution_count": 8,
      "outputs": [
        {
          "output_type": "stream",
          "name": "stdout",
          "text": [
            "'if' is a Python keyword.\n",
            "'hello' is not a Python keyword.\n"
          ]
        }
      ]
    },
    {
      "cell_type": "code",
      "source": [
        " #Create a list and tuple in Python, and demonstrate how attempting to change an element works differently\n",
        "# for each.\n",
        "\n",
        "# Create a list\n",
        "my_list = [1, 2, 3, 4, 5]\n",
        "\n",
        "# Attempt to change an element in the list\n",
        "my_list[0] = 10\n",
        "print(\"Modified list:\", my_list)  # Output: Modified list: [10, 2, 3, 4, 5]\n",
        "\n",
        "# Create a tuple\n",
        "my_tuple = (1, 2, 3, 4, 5)\n",
        "\n",
        "# Attempt to change an element in the tuple (this will raise a TypeError)\n",
        "try:\n",
        "    my_tuple[0] = 10\n",
        "except TypeError as e:\n",
        "    print(\"Error:\", e)  # Output: Error: 'tuple' object does not support item assignment\n"
      ],
      "metadata": {
        "colab": {
          "base_uri": "https://localhost:8080/"
        },
        "id": "i8u-Npbggqyy",
        "outputId": "55213e7f-38e0-4005-c121-f222769b8c00"
      },
      "execution_count": 9,
      "outputs": [
        {
          "output_type": "stream",
          "name": "stdout",
          "text": [
            "Modified list: [10, 2, 3, 4, 5]\n",
            "Error: 'tuple' object does not support item assignment\n"
          ]
        }
      ]
    },
    {
      "cell_type": "code",
      "source": [
        " #Write a function to demonstrate the behavior of mutable and immutable arguments.\n",
        "\n",
        "def demonstrate_mutability(mutable_arg, immutable_arg):\n",
        "    \"\"\"Demonstrates the behavior of mutable and immutable arguments in Python.\n",
        "\n",
        "    Args:\n",
        "        mutable_arg: A mutable argument (e.g., a list).\n",
        "        immutable_arg: An immutable argument (e.g., an integer or string).\n",
        "    \"\"\"\n",
        "\n",
        "    print(\"Inside the function:\")\n",
        "    mutable_arg.append(4)  # Modifies the original list\n",
        "    print(\"Modified mutable argument:\", mutable_arg)\n",
        "    immutable_arg += 1 # Creates a new integer object\n",
        "    print(\"Modified immutable argument:\", immutable_arg)\n",
        "\n",
        "\n",
        "# Example usage\n",
        "my_list = [1, 2, 3]\n",
        "my_integer = 10\n",
        "\n",
        "print(\"Before calling the function:\")\n",
        "print(\"Original list:\", my_list)\n",
        "print(\"Original integer:\", my_integer)\n",
        "\n",
        "\n",
        "demonstrate_mutability(my_list, my_integer)\n",
        "\n",
        "print(\"\\nAfter calling the function:\")\n",
        "print(\"Modified list:\", my_list)  # The list is modified because it's mutable.\n",
        "print(\"Original integer:\", my_integer)  # The integer remains unchanged.\n"
      ],
      "metadata": {
        "colab": {
          "base_uri": "https://localhost:8080/"
        },
        "id": "hAGELeHBg49m",
        "outputId": "3a8477e7-d8b7-4679-cba1-9b69eb7c2f11"
      },
      "execution_count": 10,
      "outputs": [
        {
          "output_type": "stream",
          "name": "stdout",
          "text": [
            "Before calling the function:\n",
            "Original list: [1, 2, 3]\n",
            "Original integer: 10\n",
            "Inside the function:\n",
            "Modified mutable argument: [1, 2, 3, 4]\n",
            "Modified immutable argument: 11\n",
            "\n",
            "After calling the function:\n",
            "Modified list: [1, 2, 3, 4]\n",
            "Original integer: 10\n"
          ]
        }
      ]
    },
    {
      "cell_type": "code",
      "source": [
        "#Write a program that performs basic arithmetic operations on two user-input numbers.\n",
        "\n",
        "def perform_arithmetic_operations(num1, num2):\n",
        "    \"\"\"Performs basic arithmetic operations on two numbers.\n",
        "\n",
        "    Args:\n",
        "        num1: The first number.\n",
        "        num2: The second number.\n",
        "\n",
        "    Returns:\n",
        "        A dictionary containing the results of the operations.\n",
        "    \"\"\"\n",
        "\n",
        "    try:\n",
        "        num1 = float(num1)  # Convert to float to handle potential decimal inputs\n",
        "        num2 = float(num2)\n",
        "\n",
        "        results = {\n",
        "            \"addition\": num1 + num2,\n",
        "            \"subtraction\": num1 - num2,\n",
        "            \"multiplication\": num1 * num2,\n",
        "        }\n",
        "        if num2 != 0 :\n",
        "          results[\"division\"] = num1 / num2\n",
        "\n",
        "        else :\n",
        "          results[\"division\"] = \"Division by zero is not allowed.\"\n",
        "        return results\n",
        "\n",
        "    except ValueError:\n",
        "        return \"Invalid input. Please enter valid numbers.\"\n",
        "\n",
        "\n",
        "if __name__ == \"__main__\":\n",
        "    num1 = input(\"Enter the first number: \")\n",
        "    num2 = input(\"Enter the second number: \")\n",
        "\n",
        "    results = perform_arithmetic_operations(num1, num2)\n",
        "results\n"
      ],
      "metadata": {
        "colab": {
          "base_uri": "https://localhost:8080/"
        },
        "id": "iIhobq7ThH8U",
        "outputId": "a5082c9d-76ef-4a7c-c2ba-5cd99098dc14"
      },
      "execution_count": 11,
      "outputs": [
        {
          "name": "stdout",
          "output_type": "stream",
          "text": [
            "Enter the first number: 2\n",
            "Enter the second number: 6\n"
          ]
        },
        {
          "output_type": "execute_result",
          "data": {
            "text/plain": [
              "{'addition': 8.0,\n",
              " 'subtraction': -4.0,\n",
              " 'multiplication': 12.0,\n",
              " 'division': 0.3333333333333333}"
            ]
          },
          "metadata": {},
          "execution_count": 11
        }
      ]
    },
    {
      "cell_type": "code",
      "source": [
        " #Write a program to demonstrate the use of logical operators.\n",
        "\n",
        "def demonstrate_logical_operators():\n",
        "    \"\"\"Demonstrates the use of logical operators in Python.\"\"\"\n",
        "\n",
        "    x = True\n",
        "    y = False\n",
        "\n",
        "    # Logical AND\n",
        "    print(f\"x and y: {x and y}\")  # Output: False\n",
        "\n",
        "    # Logical OR\n",
        "    print(f\"x or y: {x or y}\")  # Output: True\n",
        "\n",
        "    # Logical NOT\n",
        "    print(f\"not x: {not x}\")  # Output: False\n",
        "    print(f\"not y: {not y}\")  # Output: True\n",
        "\n",
        "    # Combining logical operators\n",
        "    print(f\"x and (not y): {x and (not y)}\")  # Output: True\n",
        "    print(f\"(x or y) and (not y): {(x or y) and (not y)}\")  # Output: True\n",
        "\n",
        "\n",
        "if __name__ == \"__main__\":\n",
        "    demonstrate_logical_operators()\n"
      ],
      "metadata": {
        "colab": {
          "base_uri": "https://localhost:8080/"
        },
        "id": "TRyaIs54hbLI",
        "outputId": "cc6212f1-3b40-4b91-cd8c-dfff6d26af58"
      },
      "execution_count": 12,
      "outputs": [
        {
          "output_type": "stream",
          "name": "stdout",
          "text": [
            "x and y: False\n",
            "x or y: True\n",
            "not x: False\n",
            "not y: True\n",
            "x and (not y): True\n",
            "(x or y) and (not y): True\n"
          ]
        }
      ]
    },
    {
      "cell_type": "code",
      "source": [
        " #Write a Python program to convert user input from string to integer, float, and boolean types.\n",
        "\n",
        "def convert_input():\n",
        "    \"\"\"Converts user input to integer, float, and boolean types.\"\"\"\n",
        "\n",
        "    user_input = input(\"Enter a value: \")\n",
        "\n",
        "    try:\n",
        "        integer_value = int(user_input)\n",
        "        print(\"Integer:\", integer_value)\n",
        "    except ValueError:\n",
        "        print(\"Invalid input for integer conversion.\")\n",
        "\n",
        "    try:\n",
        "        float_value = float(user_input)\n",
        "        print(\"Float:\", float_value)\n",
        "    except ValueError:\n",
        "        print(\"Invalid input for float conversion.\")\n",
        "\n",
        "    try:\n",
        "        # Attempt boolean conversion (treating non-empty strings as True)\n",
        "        boolean_value = bool(user_input)\n",
        "        print(\"Boolean:\", boolean_value)\n",
        "    except ValueError:\n",
        "        print(\"Invalid input for boolean conversion.\")\n",
        "\n",
        "if __name__ == \"__main__\":\n",
        "    convert_input()\n"
      ],
      "metadata": {
        "colab": {
          "base_uri": "https://localhost:8080/"
        },
        "id": "ysi6W5X1hw4a",
        "outputId": "dcc5ff17-1f9c-4078-f844-a45e0feb95fb"
      },
      "execution_count": 14,
      "outputs": [
        {
          "output_type": "stream",
          "name": "stdout",
          "text": [
            "Enter a value: 5\n",
            "Integer: 5\n",
            "Float: 5.0\n",
            "Boolean: True\n"
          ]
        }
      ]
    },
    {
      "cell_type": "code",
      "source": [
        " #Write code to demonstrate type casting with list elements.\n",
        "\n",
        "#Write code to demonstrate type casting with list elements.\n",
        "my_list = [1, '2', 3.0, '4.5', True]\n",
        "\n",
        "#Type casting to integer\n",
        "int_list = []\n",
        "for element in my_list:\n",
        "    try:\n",
        "        int_list.append(int(element))\n",
        "    except (ValueError, TypeError):\n",
        "        print(f\"Skipping element '{element}' as it cannot be converted to an integer.\")\n",
        "print(\"List after converting to integer:\",int_list)\n",
        "\n",
        "# Type casting to string\n",
        "string_list = [str(element) for element in my_list]\n",
        "print(\"List after converting to string:\",string_list)\n",
        "\n",
        "# Type casting to float\n",
        "float_list = []\n",
        "for element in my_list:\n",
        "    try:\n",
        "        float_list.append(float(element))\n",
        "    except (ValueError, TypeError):\n",
        "        print(f\"Skipping element '{element}' as it cannot be converted to a float.\")\n",
        "print(\"List after converting to float:\",float_list)\n",
        "\n",
        "# Type casting to boolean\n",
        "bool_list = [bool(element) for element in my_list]\n",
        "print(\"List after converting to boolean:\",bool_list)\n"
      ],
      "metadata": {
        "colab": {
          "base_uri": "https://localhost:8080/"
        },
        "id": "YGpFzPehiG4j",
        "outputId": "d41fc10e-448c-43c2-e92f-ca59d253b915"
      },
      "execution_count": 15,
      "outputs": [
        {
          "output_type": "stream",
          "name": "stdout",
          "text": [
            "Skipping element '4.5' as it cannot be converted to an integer.\n",
            "List after converting to integer: [1, 2, 3, 1]\n",
            "List after converting to string: ['1', '2', '3.0', '4.5', 'True']\n",
            "List after converting to float: [1.0, 2.0, 3.0, 4.5, 1.0]\n",
            "List after converting to boolean: [True, True, True, True, True]\n"
          ]
        }
      ]
    },
    {
      "cell_type": "code",
      "source": [
        " #Write a program that checks if a number is positive, negative, or zero\n",
        "\n",
        "def check_number(number):\n",
        "    \"\"\"Checks if a number is positive, negative, or zero.\"\"\"\n",
        "    if number > 0:\n",
        "        return \"Positive\"\n",
        "    elif number < 0:\n",
        "        return \"Negative\"\n",
        "    else:\n",
        "        return \"Zero\"\n",
        "\n",
        "# Example usage\n",
        "number = 10\n",
        "result = check_number(number)\n",
        "print(f\"The number {number} is {result}\")\n",
        "\n",
        "number = -5\n",
        "result = check_number(number)\n",
        "print(f\"The number {number} is {result}\")\n",
        "\n",
        "number = 0\n",
        "result = check_number(number)\n",
        "print(f\"The number {number} is {result}\")\n"
      ],
      "metadata": {
        "colab": {
          "base_uri": "https://localhost:8080/"
        },
        "id": "T083kh2EiUd1",
        "outputId": "77f0edb2-02e8-4a9b-8531-044c1de175ef"
      },
      "execution_count": 16,
      "outputs": [
        {
          "output_type": "stream",
          "name": "stdout",
          "text": [
            "The number 10 is Positive\n",
            "The number -5 is Negative\n",
            "The number 0 is Zero\n"
          ]
        }
      ]
    },
    {
      "cell_type": "code",
      "source": [
        " #Write a for loop to print numbers from 1 to 10.\n",
        " for i in range(1, 11):\n",
        "     print(i)\n"
      ],
      "metadata": {
        "colab": {
          "base_uri": "https://localhost:8080/"
        },
        "id": "hh_15ZlcjeXC",
        "outputId": "c790e1de-e4ef-40bb-8b4e-d0894baf34de"
      },
      "execution_count": 23,
      "outputs": [
        {
          "output_type": "stream",
          "name": "stdout",
          "text": [
            "1\n",
            "2\n",
            "3\n",
            "4\n",
            "5\n",
            "6\n",
            "7\n",
            "8\n",
            "9\n",
            "10\n"
          ]
        }
      ]
    },
    {
      "cell_type": "code",
      "source": [
        " #Write a Python program to find the sum of all even numbers between 1 and 50.\n",
        "\n",
        "sum_of_evens = 0\n",
        "for i in range(2, 51, 2):\n",
        "  sum_of_evens += i\n",
        "print(f\"The sum of all even numbers between 1 and 50 is: {sum_of_evens}\")\n"
      ],
      "metadata": {
        "colab": {
          "base_uri": "https://localhost:8080/"
        },
        "id": "2l0tomraj65y",
        "outputId": "c143950f-df90-4b34-e6c0-0f2efbe6ce01"
      },
      "execution_count": 24,
      "outputs": [
        {
          "output_type": "stream",
          "name": "stdout",
          "text": [
            "The sum of all even numbers between 1 and 50 is: 650\n"
          ]
        }
      ]
    },
    {
      "cell_type": "code",
      "source": [
        "#Write a program to reverse a string using a while loop.\n",
        "\n",
        "def reverse_string(input_string):\n",
        "    reversed_string = \"\"\n",
        "    index = len(input_string) - 1\n",
        "    while index >= 0:\n",
        "        reversed_string += input_string[index]\n",
        "        index -= 1\n",
        "    return reversed_string\n",
        "\n",
        "# Example usage\n",
        "string_to_reverse = \"hello\"\n",
        "reversed_string = reverse_string(string_to_reverse)\n",
        "print(f\"The reversed string of '{string_to_reverse}' is '{reversed_string}'\")\n"
      ],
      "metadata": {
        "colab": {
          "base_uri": "https://localhost:8080/"
        },
        "id": "TEtLn2VukIzr",
        "outputId": "9ad06c25-f683-4ccb-d6da-bb318102e862"
      },
      "execution_count": 25,
      "outputs": [
        {
          "output_type": "stream",
          "name": "stdout",
          "text": [
            "The reversed string of 'hello' is 'olleh'\n"
          ]
        }
      ]
    },
    {
      "cell_type": "code",
      "source": [
        " #Write a Python program to calculate the factorial of a number provided by the user using a while loop\n",
        "\n",
        "def factorial(n):\n",
        "    \"\"\"\n",
        "    Calculates the factorial of a non-negative integer using a while loop.\n",
        "\n",
        "    Args:\n",
        "      n: The non-negative integer.\n",
        "\n",
        "    Returns:\n",
        "      The factorial of n, or 1 if n is 0.\n",
        "      Returns an error message if n is negative.\n",
        "    \"\"\"\n",
        "    if n < 0:\n",
        "        return \"Factorial is not defined for negative numbers.\"\n",
        "    elif n == 0:\n",
        "        return 1\n",
        "    else:\n",
        "        fact = 1\n",
        "        i = 1\n",
        "        while i <= n:\n",
        "            fact *= i\n",
        "            i += 1\n",
        "        return fact\n",
        "\n",
        "# Get input from the user\n",
        "num = int(input(\"Enter a non-negative integer: \"))\n",
        "\n",
        "# Calculate and print the factorial\n",
        "result = factorial(num)\n",
        "print(f\"The factorial of {num} is {result}\")\n"
      ],
      "metadata": {
        "colab": {
          "base_uri": "https://localhost:8080/"
        },
        "id": "XYsxDJbckWnV",
        "outputId": "949c7ac7-9b39-453b-b7d3-deab9b06318e"
      },
      "execution_count": 26,
      "outputs": [
        {
          "output_type": "stream",
          "name": "stdout",
          "text": [
            "Enter a non-negative integer: 4\n",
            "The factorial of 4 is 24\n"
          ]
        }
      ]
    }
  ]
}